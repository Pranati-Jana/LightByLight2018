{
 "cells": [
  {
   "cell_type": "code",
   "execution_count": 1,
   "id": "e9a2d498",
   "metadata": {},
   "outputs": [],
   "source": [
    "import re\n",
    "import sys\n",
    "# splits the LHE file inputFile into numFiles individual files of the form\n",
    "# outFileNameBase_XXX.lhe\n",
    "# For numFiles > 1000, the number of open IO files in python will cause\n",
    "# the program to exit with an error.\n",
    "def split(inputFile, outFileNameBase, numFiles):\n",
    "    fin = \"\"\n",
    "    try:\n",
    "        fin = open(inputFile)\n",
    "    except:\n",
    "        print(\"Error: Input file: %s could not be opened, exiting.\" % inputFile)\n",
    "        sys.exit(1)\n",
    "\n",
    "    eventNum = 0\n",
    "    init = False\n",
    "    inFooter = False\n",
    "    footLines = []\n",
    "    for line in fin:\n",
    "        if re.match(r\"[^#]*</LesHouchesEvents>\",line):\n",
    "            inFooter = True\n",
    "            footLines.append(line)\n",
    "        elif inFooter:\n",
    "            footLines.append(line)\n",
    "        elif init:  \n",
    "            if re.match(r\"[^#]*</event>\",line):\n",
    "                eventNum += 1\n",
    "        elif re.match(r\"[^#]*</init>\",line):\n",
    "            init = True\n",
    "\n",
    "    eventsTotal = eventNum\n",
    "    print (\"N Events Total: %i\" % eventsTotal)\n",
    "\n",
    "    files = []\n",
    "    maxEventsFile = []\n",
    "    for i in range(numFiles):\n",
    "        splitFileName = outFileNameBase\n",
    "        if(i < 100):\n",
    "            splitFileName += \"0\"\n",
    "        if(i < 10):\n",
    "            splitFileName += \"\"\n",
    "        tmp = open(splitFileName+str(i)+\".lhe\",'w')\n",
    "        files.append(tmp)\n",
    "        maxEventsFile.append(eventsTotal/numFiles)\n",
    "        #maxEventsFile.append(5000)\n",
    "    maxEventsFile[len(maxEventsFile)-1] += eventsTotal % numFiles\n",
    "    #print(footLines)\n",
    "    print(maxEventsFile)\n",
    "    \n",
    "    eventNum = 0\n",
    "    eventNumThisFile = 0\n",
    "    init = False\n",
    "    headLines = []\n",
    "    iFile = 0\n",
    "    fin.seek(0)\n",
    "    for line in fin:\n",
    "        if init:  \n",
    "            #files[iFile].writelines(headLines)\n",
    "            files[iFile].write(line)\n",
    "            if re.match(r\"[^#]*</event>\",line):\n",
    "                eventNum += 1\n",
    "                eventNumThisFile += 1\n",
    "            if eventNumThisFile >= maxEventsFile[iFile]:\n",
    "                files[iFile].writelines(footLines)\n",
    "                iFile += 1\n",
    "                if(iFile < numFiles):\n",
    "                    files[iFile].writelines(headLines)\n",
    "                eventNumThisFile = 0\n",
    "            if iFile == numFiles:\n",
    "                break\n",
    "        elif re.match(r\"[^#]*</init>\",line):\n",
    "            init = True\n",
    "            headLines.append(line)\n",
    "            files[iFile].writelines(headLines)\n",
    "        else:\n",
    "            headLines.append(line)\n",
    "    \n",
    "    #print(headLines)\n",
    "    \n",
    "\n",
    "    for f in files:\n",
    "        f.close()\n",
    " "
   ]
  },
  {
   "cell_type": "code",
   "execution_count": 2,
   "id": "16f812ae",
   "metadata": {},
   "outputs": [],
   "source": [
    "#split(\"dielectrons_breakupmode5.lhe\",\"SL_QED_FSR\",20)"
   ]
  },
  {
   "cell_type": "code",
   "execution_count": 3,
   "id": "2a688b71",
   "metadata": {},
   "outputs": [
    {
     "name": "stdout",
     "output_type": "stream",
     "text": [
      "N Events Total: 788069\n",
      "[5000, 5000, 5000, 5000, 5000, 5000, 5000, 5000, 5000, 5000, 5000, 5000, 5000, 5000, 5000, 5000, 5000, 5000, 5000, 5000, 5000, 5000, 5000, 5000, 5000, 5000, 5000, 5000, 5000, 5000, 5000, 5000, 5000, 5000, 5000, 5000, 5000, 5000, 5000, 5000, 5000, 5000, 5000, 5000, 5000, 5000, 5000, 5000, 5000, 5000, 5000, 5000, 5000, 5000, 5000, 5000, 5000, 5000, 5000, 5000, 5000, 5000, 5000, 5000, 5000, 5000, 5000, 5000, 5000, 5000, 5000, 5000, 5000, 5000, 5000, 5000, 5000, 5000, 5000, 5000, 5000, 5000, 5000, 5000, 5000, 5000, 5000, 5000, 5000, 5000, 5000, 5000, 5000, 5000, 5000, 5000, 5000, 5000, 5000, 5000, 5000, 5000, 5000, 5000, 5000, 5000, 5000, 5000, 5000, 5000, 5000, 5000, 5000, 5000, 5000, 5000, 5000, 5000, 5000, 5000, 5000, 5000, 5000, 5000, 5000, 5000, 5000, 5000, 5000, 5000, 5000, 5000, 5000, 5000, 5000, 5000, 5000, 5000, 5000, 5000, 5000, 5000, 5000, 5000, 5000, 5000, 5000, 5000, 5000, 5000, 5000, 5000, 5000, 5000, 5000, 5000, 5000, 5000, 5000, 5000, 5000, 5000, 5000, 5000, 5000, 5000, 5000, 5000, 5000, 5000, 5000, 5000, 5000, 5000, 5000, 5000, 5000, 5000, 5000, 5000, 5000, 5000, 5000, 5000, 5000, 5000, 5000, 5000, 5000, 5000, 5000, 5000, 5000, 5000, 5000, 5000, 5000, 5000, 5000, 5000]\n"
     ]
    }
   ],
   "source": [
    "split(\"LbL_taumass_TAU1.lhe\",\"lbyl/mg5-lbyl\",200)"
   ]
  },
  {
   "cell_type": "code",
   "execution_count": null,
   "id": "0ea63d37",
   "metadata": {},
   "outputs": [],
   "source": []
  }
 ],
 "metadata": {
  "kernelspec": {
   "display_name": "Python 3",
   "language": "python",
   "name": "python3"
  },
  "language_info": {
   "codemirror_mode": {
    "name": "ipython",
    "version": 3
   },
   "file_extension": ".py",
   "mimetype": "text/x-python",
   "name": "python",
   "nbconvert_exporter": "python",
   "pygments_lexer": "ipython3",
   "version": "3.9.6"
  }
 },
 "nbformat": 4,
 "nbformat_minor": 5
}
